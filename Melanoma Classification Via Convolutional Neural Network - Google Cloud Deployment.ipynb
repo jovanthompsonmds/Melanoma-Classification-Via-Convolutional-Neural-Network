{
 "cells": [
  {
   "cell_type": "code",
   "execution_count": null,
   "id": "96219716-01ca-4cb8-b004-b00fac4abaad",
   "metadata": {},
   "outputs": [],
   "source": [
    "import numpy as np\n",
    "import cv2\n",
    "from tensorflow.keras.models import load_model\n",
    "\n",
    "# Load the pretrained model\n",
    "model = load_model('melanoma_cnn_model.h5')\n",
    "\n",
    "# Check the model architecture\n",
    "model.summary()\n",
    "\n",
    "# Function to preprocess image\n",
    "def preprocess_image(image_path):\n",
    "    img = cv2.imread(image_path)\n",
    "    img = cv2.resize(img, (224, 224))\n",
    "    img = img / 255.0\n",
    "    return np.expand_dims(img, axis=0)\n",
    "\n",
    "# Example usage\n",
    "new_image = preprocess_image('path_to_new_image.jpg')\n",
    "\n",
    "# Make prediction\n",
    "predictions = model.predict(new_image)\n",
    "predicted_class = (predictions > 0.5).astype(int)\n",
    "print(\"Predicted class:\", \"Malignant\" if predicted_class[0][0] == 1 else \"Benign\")\n"
   ]
  },
  {
   "cell_type": "code",
   "execution_count": null,
   "id": "870f2714-6cb9-4b0f-ac34-2f4a009a97a7",
   "metadata": {},
   "outputs": [],
   "source": []
  }
 ],
 "metadata": {
  "kernelspec": {
   "display_name": "Python 3 (ipykernel)",
   "language": "python",
   "name": "python3"
  },
  "language_info": {
   "codemirror_mode": {
    "name": "ipython",
    "version": 3
   },
   "file_extension": ".py",
   "mimetype": "text/x-python",
   "name": "python",
   "nbconvert_exporter": "python",
   "pygments_lexer": "ipython3",
   "version": "3.12.1"
  }
 },
 "nbformat": 4,
 "nbformat_minor": 5
}
